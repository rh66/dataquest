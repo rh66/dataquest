{
 "cells": [
  {
   "cell_type": "markdown",
   "metadata": {},
   "source": [
    "These exercises are part of practice in Chaperter 4.4 \"APIs and Web Scrapping\", of online courses \"Become a data scientist\" [www.dataquest.io](www.dataquest.io) <br>"
   ]
  },
  {
   "cell_type": "markdown",
   "metadata": {},
   "source": [
    "# APIs\n",
    "* Endpoints are used in API for retrieving specific data\n",
    "* JSON - JavaScript Object Notation (JSON), a data format often used by API in returned data\n",
    "### - get; post; patch; response\n",
    "### - requests parameters, Status code, json converting, methods in response\n",
    "### - API rate limiting - avoid one user overload API server\n",
    "### - Authentication\n",
    "### - OAuth\n",
    "### - webscrapping\n",
    "### - BeautifulSoup parser\n",
    "after initialize with 'html.parser', can access text using tag types, IDs, class_, etc <br>"
   ]
  },
  {
   "cell_type": "code",
   "execution_count": 1,
   "metadata": {
    "collapsed": true
   },
   "outputs": [],
   "source": [
    "import requests\n",
    "import json"
   ]
  },
  {
   "cell_type": "code",
   "execution_count": null,
   "metadata": {
    "collapsed": true
   },
   "outputs": [],
   "source": []
  },
  {
   "cell_type": "markdown",
   "metadata": {},
   "source": [
    "# requests parameters, Status code, json converting, methods in response"
   ]
  },
  {
   "cell_type": "code",
   "execution_count": 3,
   "metadata": {},
   "outputs": [
    {
     "name": "stdout",
     "output_type": "stream",
     "text": [
      "200\n"
     ]
    }
   ],
   "source": [
    "# make a get request to get the latest position of the ISS from the OPenNotify APS\n",
    "response = requests.get(\"http://api.open-notify.org/iss-now.json\")\n",
    "status_code = response.status_code\n",
    "print(status_code)"
   ]
  },
  {
   "cell_type": "markdown",
   "metadata": {},
   "source": [
    "* 200 - Okay\n",
    "* 301 - redirected to a different endpoint (endpoint name changed)\n",
    "* 401 - You are not authenticated\n",
    "* 403 - Access is forbidden\n",
    "* 404 - Resources not found"
   ]
  },
  {
   "cell_type": "code",
   "execution_count": 4,
   "metadata": {},
   "outputs": [
    {
     "name": "stdout",
     "output_type": "stream",
     "text": [
      "b'{\\n  \"message\": \"success\", \\n  \"request\": {\\n    \"altitude\": 100, \\n    \"datetime\": 1538510164, \\n    \"latitude\": 40.71, \\n    \"longitude\": -47.0, \\n    \"passes\": 5\\n  }, \\n  \"response\": [\\n    {\\n      \"duration\": 567, \\n      \"risetime\": 1538513447\\n    }, \\n    {\\n      \"duration\": 561, \\n      \"risetime\": 1538519303\\n    }, \\n    {\\n      \"duration\": 630, \\n      \"risetime\": 1538525102\\n    }, \\n    {\\n      \"duration\": 609, \\n      \"risetime\": 1538530898\\n    }, \\n    {\\n      \"duration\": 526, \\n      \"risetime\": 1538585159\\n    }\\n  ]\\n}\\n'\n"
     ]
    }
   ],
   "source": [
    "# set parameters to pass to API: latitude and longitude of NYC:\n",
    "parameters = {\"lat\": 40.71, \"lon\": -47}\n",
    "\n",
    "response = requests.get(\"http://api.open-notify.org/iss-pass.json\", params=parameters)\n",
    "# it can also be done as:\n",
    "# response = requests.get(\"http://api.open-notify.org/iss-pass.json?lat=40.71&lon=-74)\n",
    "print(response.content)"
   ]
  },
  {
   "cell_type": "markdown",
   "metadata": {},
   "source": [
    "# JSON methods: \n",
    "* loads (string --> python objects), dumps (python objects --> string)\n",
    "* .json() method convert response string to python object"
   ]
  },
  {
   "cell_type": "code",
   "execution_count": 6,
   "metadata": {},
   "outputs": [
    {
     "name": "stdout",
     "output_type": "stream",
     "text": [
      "<class 'str'>\n",
      "<class 'str'>\n",
      "{\"Starbucks\": 10821, \"McDonalds\": 14098, \"Subway\": 24722, \"Pizza Hut\": 7600}\n"
     ]
    }
   ],
   "source": [
    "food_chains_list = ['Taco Bell', 'Shake Shack', 'Chipotle']\n",
    "food_franchise_dict = {\"Subway\": 24722,\n",
    "                      \"McDonalds\": 14098,\n",
    "                      \"Starbucks\": 10821,\n",
    "                      \"Pizza Hut\": 7600}\n",
    "food_chains_string = json.dumps(food_chains_list)\n",
    "food_franchise_string = json.dumps(food_franchise_dict)\n",
    "print(type(food_chains_string))\n",
    "print(type(food_franchise_string))\n",
    "print(food_franchise_string)"
   ]
  },
  {
   "cell_type": "code",
   "execution_count": 9,
   "metadata": {},
   "outputs": [
    {
     "name": "stdout",
     "output_type": "stream",
     "text": [
      "{'request': {'passes': 5, 'altitude': 100, 'latitude': 40.71, 'datetime': 1538510164, 'longitude': -47.0}, 'response': [{'duration': 567, 'risetime': 1538513447}, {'duration': 561, 'risetime': 1538519303}, {'duration': 630, 'risetime': 1538525102}, {'duration': 609, 'risetime': 1538530898}, {'duration': 526, 'risetime': 1538585159}], 'message': 'success'}\n",
      "\n",
      " 567\n"
     ]
    }
   ],
   "source": [
    "json_data = response.json()\n",
    "print(json_data)\n",
    "first_pass_duration = json_data[\"response\"][0][\"duration\"]\n",
    "print(\"\\n\", first_pass_duration)"
   ]
  },
  {
   "cell_type": "code",
   "execution_count": 14,
   "metadata": {},
   "outputs": [
    {
     "name": "stdout",
     "output_type": "stream",
     "text": [
      "{'Content-Type': 'application/json', 'Via': '1.1 vegur', 'Server': 'nginx/1.10.3', 'Connection': 'keep-alive', 'Date': 'Tue, 02 Oct 2018 19:56:05 GMT', 'Content-Length': '519'}\n"
     ]
    }
   ],
   "source": [
    "print(response.headers)"
   ]
  },
  {
   "cell_type": "code",
   "execution_count": 11,
   "metadata": {},
   "outputs": [
    {
     "data": {
      "text/plain": [
       "['__subclasshook__',\n",
       " 'url',\n",
       " '__reduce__',\n",
       " 'close',\n",
       " '__reduce_ex__',\n",
       " '__dict__',\n",
       " '__ge__',\n",
       " '_content',\n",
       " '__iter__',\n",
       " '__repr__',\n",
       " 'headers',\n",
       " 'cookies',\n",
       " 'raw',\n",
       " '__init__',\n",
       " '__setstate__',\n",
       " '__bool__',\n",
       " 'ok',\n",
       " 'status_code',\n",
       " '__getattribute__',\n",
       " '__doc__',\n",
       " '__nonzero__',\n",
       " '__setattr__',\n",
       " '__ne__',\n",
       " 'iter_content',\n",
       " 'is_permanent_redirect',\n",
       " '__delattr__',\n",
       " 'is_redirect',\n",
       " 'links',\n",
       " 'reason',\n",
       " '__dir__',\n",
       " 'iter_lines',\n",
       " '__eq__',\n",
       " 'text',\n",
       " '__class__',\n",
       " '__hash__',\n",
       " '__format__',\n",
       " '__getstate__',\n",
       " 'json',\n",
       " 'request',\n",
       " 'history',\n",
       " 'elapsed',\n",
       " '_content_consumed',\n",
       " '__gt__',\n",
       " '__module__',\n",
       " '__weakref__',\n",
       " 'apparent_encoding',\n",
       " '__attrs__',\n",
       " '__le__',\n",
       " 'encoding',\n",
       " 'content',\n",
       " '__new__',\n",
       " 'connection',\n",
       " 'raise_for_status',\n",
       " '__sizeof__',\n",
       " '__lt__',\n",
       " '__str__']"
      ]
     },
     "execution_count": 11,
     "metadata": {},
     "output_type": "execute_result"
    }
   ],
   "source": [
    "response.__dir__()"
   ]
  },
  {
   "cell_type": "code",
   "execution_count": 16,
   "metadata": {},
   "outputs": [
    {
     "name": "stdout",
     "output_type": "stream",
     "text": [
      "{'message': 'success', 'number': 6, 'people': [{'name': 'Oleg Artemyev', 'craft': 'ISS'}, {'name': 'Andrew Feustel', 'craft': 'ISS'}, {'name': 'Richard Arnold', 'craft': 'ISS'}, {'name': 'Sergey Prokopyev', 'craft': 'ISS'}, {'name': 'Alexander Gerst', 'craft': 'ISS'}, {'name': 'Serena Aunon-Chancellor', 'craft': 'ISS'}]}\n"
     ]
    }
   ],
   "source": [
    "# request to endpoint astros.json, to find the number of people in space, :\n",
    "response = requests.get(\"http://api.open-notify.org/astros.json\")\n",
    "json_data = response.json()\n",
    "print(json_data)"
   ]
  },
  {
   "cell_type": "code",
   "execution_count": 17,
   "metadata": {},
   "outputs": [
    {
     "name": "stdout",
     "output_type": "stream",
     "text": [
      "6\n"
     ]
    }
   ],
   "source": [
    "print(json_data['number'])"
   ]
  },
  {
   "cell_type": "markdown",
   "metadata": {},
   "source": [
    "# authentication \n",
    "* it is said that after authenticated with token, the system knows who we are, and can provide some information without username."
   ]
  },
  {
   "cell_type": "code",
   "execution_count": 20,
   "metadata": {
    "collapsed": true
   },
   "outputs": [],
   "source": [
    "# using a file for the token to hide it from code text\n",
    "with open(\"token.txt\", 'r') as myfile:\n",
    "    token = myfile.read()"
   ]
  },
  {
   "cell_type": "code",
   "execution_count": 24,
   "metadata": {},
   "outputs": [
    {
     "name": "stdout",
     "output_type": "stream",
     "text": [
      "<class 'str'>\n"
     ]
    }
   ],
   "source": [
    "# print(token)\n",
    "print(type(token))"
   ]
  },
  {
   "cell_type": "code",
   "execution_count": 25,
   "metadata": {
    "collapsed": true
   },
   "outputs": [],
   "source": [
    "headers = {\"Authorization\": token}\n",
    "# print(headers)"
   ]
  },
  {
   "cell_type": "code",
   "execution_count": 29,
   "metadata": {},
   "outputs": [
    {
     "name": "stdout",
     "output_type": "stream",
     "text": [
      "{'documentation_url': 'https://developer.github.com/v3', 'message': 'Bad credentials'}\n",
      "{'documentation_url': 'https://developer.github.com/v3', 'message': 'Bad credentials'}\n"
     ]
    }
   ],
   "source": [
    "response = requests.get(\"https://api.github.com/users/VikParuchuri\", headers=headers)\n",
    "print(response.json())\n",
    "response = requests.get(\"https://api.github.com/users/VikParuchuri/orgs\", headers=headers)\n",
    "org = response.json()\n",
    "print(org)    # the denial of access was probably caused by my expired payment"
   ]
  },
  {
   "cell_type": "code",
   "execution_count": 31,
   "metadata": {},
   "outputs": [
    {
     "name": "stdout",
     "output_type": "stream",
     "text": [
      "{'documentation_url': 'https://developer.github.com/v3', 'message': 'Bad credentials'}\n"
     ]
    }
   ],
   "source": [
    "response = requests.get(\"https://api.github.com/repos/octocat/hello-world\", headers=headers)\n",
    "hello_world = response.json()\n",
    "\n",
    "# also can provide information without authentication\n",
    "response = requests.get(\"https://api.github.com/user\", headers=headers)\n",
    "user = response.json()\n",
    "print(user)   # there is a problem here. The access might be denied after my payment expired."
   ]
  },
  {
   "cell_type": "markdown",
   "metadata": {},
   "source": [
    "# pagination "
   ]
  },
  {
   "cell_type": "code",
   "execution_count": 30,
   "metadata": {
    "collapsed": true
   },
   "outputs": [],
   "source": [
    "params = {\"per_page\": 50, \"page\":1}\n",
    "response = requests.get(\"https://api.github.com/users/VikParuchuri/starred\", \n",
    "                        headers=headers, params=params)\n",
    "page1 = response.json()\n",
    "params = {\"per_page\": 50, \"page\":2}\n",
    "response = requests.get(\"https://api.github.com/users/VikParuchuri/starred\", \n",
    "                        headers=headers, params=params)\n",
    "page2 = response.json()"
   ]
  },
  {
   "cell_type": "markdown",
   "metadata": {},
   "source": [
    "# post"
   ]
  },
  {
   "cell_type": "code",
   "execution_count": 32,
   "metadata": {},
   "outputs": [
    {
     "name": "stdout",
     "output_type": "stream",
     "text": [
      "{'documentation_url': 'https://developer.github.com/v3', 'message': 'Bad credentials'}\n",
      "{'documentation_url': 'https://developer.github.com/v3', 'message': 'Bad credentials'}\n"
     ]
    }
   ],
   "source": [
    "# For an endpoint accept key \"name\", create a repositories \"test\", and \"learning-about-apis\"\n",
    "# but the results showing that I am not able to access the endpoint anymore !!!\n",
    "payload = {\"name\": \"test\"}\n",
    "\n",
    "response = requests.post(\"https://api.github.com/user/repos\", json=payload, \n",
    "                        headers=headers)\n",
    "print(response.json())\n",
    "\n",
    "payload = {\"name\": \"learning-about-apis\"}\n",
    "response = requests.post(\"https://api.github.com/user/repos\", json=payload,\n",
    "                        headers=headers)\n",
    "print(response.json())"
   ]
  },
  {
   "cell_type": "markdown",
   "metadata": {},
   "source": [
    "# patch \n",
    "update an existing object"
   ]
  },
  {
   "cell_type": "code",
   "execution_count": 33,
   "metadata": {},
   "outputs": [
    {
     "name": "stdout",
     "output_type": "stream",
     "text": [
      "401\n"
     ]
    }
   ],
   "source": [
    "payload = {\"description\": \"The best repository ever!\", \"name\": \"test\"}\n",
    "response = requests.patch(\"https://api.github.com/repos/VikParuchuri/test\",\n",
    "                         json=payload, headers=headers)\n",
    "status = response.status_code\n",
    "print(status)"
   ]
  },
  {
   "cell_type": "markdown",
   "metadata": {},
   "source": [
    "401 error, means I am not authenticated. Possibly my payment expired"
   ]
  },
  {
   "cell_type": "markdown",
   "metadata": {},
   "source": [
    "# OAuth\n",
    "OAuth (Open Authorization): an open standard for token-based authentication and authorization on the Internet."
   ]
  },
  {
   "cell_type": "code",
   "execution_count": 35,
   "metadata": {
    "collapsed": true
   },
   "outputs": [],
   "source": [
    "with open(\"OAuth.txt\", 'r') as myfile:\n",
    "    token = myfile.read()\n",
    "headers = {\"Authorization\": token}\n",
    "# print(headers)"
   ]
  },
  {
   "cell_type": "code",
   "execution_count": 38,
   "metadata": {
    "collapsed": true
   },
   "outputs": [],
   "source": [
    "headers[\"User-Agent\"] =\"Datequest/1.0\"\n",
    "# print(headers)"
   ]
  },
  {
   "cell_type": "code",
   "execution_count": 39,
   "metadata": {
    "collapsed": true
   },
   "outputs": [],
   "source": [
    "params = {\"t\": \"day\"}\n",
    "response = requests.get(\"https://oauth.reddit.com/r/python/top\", headers=headers,\n",
    "                       params=params)\n",
    "python_top = response.json()"
   ]
  },
  {
   "cell_type": "code",
   "execution_count": 40,
   "metadata": {},
   "outputs": [
    {
     "name": "stdout",
     "output_type": "stream",
     "text": [
      "{'message': 'Unauthorized', 'error': 401}\n"
     ]
    }
   ],
   "source": [
    "print(python_top)"
   ]
  },
  {
   "cell_type": "markdown",
   "metadata": {},
   "source": [
    "Obviously, I have authorization issue. If succeeded, the response.json() will be in format of a large dictionary."
   ]
  },
  {
   "cell_type": "markdown",
   "metadata": {},
   "source": [
    "___________________\n",
    "# Web scrpping"
   ]
  },
  {
   "cell_type": "code",
   "execution_count": 3,
   "metadata": {},
   "outputs": [
    {
     "name": "stdout",
     "output_type": "stream",
     "text": [
      "{'ETag': 'W/\"590ba6fa-239c\"', 'X-Fastly-Request-ID': 'af48fd9ea63ac1ff58df2ec659520597600469fc', 'Vary': 'Accept-Encoding', 'Via': '1.1 varnish', 'Accept-Ranges': 'bytes', 'Server': 'GitHub.com', 'X-GitHub-Request-Id': '935E:5A83:68E7419:86CF2A9:5BB4E571', 'X-Cache-Hits': '1', 'Content-Type': 'text/html; charset=utf-8', 'X-Timer': 'S1538584795.901038,VS0,VE0', 'X-Cache': 'HIT', 'Age': '2921', 'Content-Security-Policy': \"default-src 'none'; style-src 'unsafe-inline'; img-src data:; connect-src 'self'\", 'Connection': 'keep-alive', 'Content-Encoding': 'gzip', 'Date': 'Wed, 03 Oct 2018 16:39:54 GMT', 'X-Served-By': 'cache-mdw17372-MDW', 'Content-Length': '5143'}\n",
      "\n",
      " utf-8\n",
      "\n",
      " <class 'bytes'>\n"
     ]
    }
   ],
   "source": [
    "response = requests.get(\"http://dataquestio.github.io/web-scrapping-pages/simple.html\")\n",
    "content = response.content\n",
    "print(response.headers)\n",
    "print(\"\\n\", response.encoding)\n",
    "print('\\n', type(content))"
   ]
  },
  {
   "cell_type": "code",
   "execution_count": 5,
   "metadata": {},
   "outputs": [
    {
     "name": "stdout",
     "output_type": "stream",
     "text": [
      "b'<!DOCTYPE html>\\n<html>\\n  <head>\\n    <meta http-equiv=\"Content-type\" content=\"text/html; charset=utf-8\">\\n    <meta http-equiv=\"Content-Security-Policy\" content=\"default-src \\'none\\'; style-src \\'unsafe-inline\\'; img-src data:; connect-src \\'self\\'\">\\n    <title>Site not found &middot; GitHub Pages</title>\\n    <style type=\"text/css\" media=\"screen\">\\n      body {\\n        background-color: #f1f1f1;\\n        margin: 0;\\n        font-family: \"Helvetica Neue\", Helvetica, Arial, sans-serif;\\n      }\\n\\n      .container { margin: 50px auto 40px auto; width: 600px; text-align: center; }\\n\\n      a { color: #4183c4; text-decoration: none; }\\n      a:hover { text-decoration: underline; }\\n\\n      h1 { width: 800px; position:relative; left: -100px; letter-spacing: -1px; line-height: 60px; font-size: 60px; font-weight: 100; margin: 0px 0 50px 0; text-shadow: 0 1px 0 #fff; }\\n      p { color: rgba(0, 0, 0, 0.5); margin: 20px 0; line-height: 1.6; }\\n\\n      ul { list-style: none; margin: 25px 0; padding: 0; }\\n      li { display: table-cell; font-weight: bold; width: 1%; }\\n\\n      .logo { display: inline-block; margin-top: 35px; }\\n      .logo-img-2x { display: none; }\\n      @media\\n      only screen and (-webkit-min-device-pixel-ratio: 2),\\n      only screen and (   min--moz-device-pixel-ratio: 2),\\n      only screen and (     -o-min-device-pixel-ratio: 2/1),\\n      only screen and (        min-device-pixel-ratio: 2),\\n      only screen and (                min-resolution: 192dpi),\\n      only screen and (                min-resolution: 2dppx) {\\n        .logo-img-1x { display: none; }\\n        .logo-img-2x { display: inline-block; }\\n      }\\n\\n      #suggestions {\\n        margin-top: 35px;\\n        color: #ccc;\\n      }\\n      #suggestions a {\\n        color: #666666;\\n        font-weight: 200;\\n        font-size: 14px;\\n        margin: 0 10px;\\n      }\\n\\n    </style>\\n  </head>\\n  <body>\\n\\n    <div class=\"container\">\\n\\n      <h1>404</h1>\\n      <p><strong>There isn\\'t a GitHub Pages site here.</strong></p>\\n\\n      <p>\\n        If you\\'re trying to publish one,\\n        <a href=\"https://help.github.com/pages/\">read the full documentation</a>\\n        to learn how to set up <strong>GitHub Pages</strong>\\n        for your repository, organization, or user account.\\n      </p>\\n\\n      <div id=\"suggestions\">\\n        <a href=\"https://status.github.com\">GitHub Status</a> &mdash;\\n        <a href=\"https://twitter.com/githubstatus\">@githubstatus</a>\\n      </div>\\n\\n      <a href=\"/\" class=\"logo logo-img-1x\">\\n        <img width=\"32\" height=\"32\" title=\"\" alt=\"\" src=\"data:image/png;base64,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\">\\n      </a>\\n\\n      <a href=\"/\" class=\"logo logo-img-2x\">\\n        <img width=\"32\" height=\"32\" title=\"\" alt=\"\" src=\"data:image/png;base64,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\">\\n      </a>\\n    </div>\\n  </body>\\n</html>\\n'\n"
     ]
    }
   ],
   "source": [
    "# the .json() is not available for this response, gives error. \n",
    "# The content is not a string of python object !\n",
    "# j = response.json()\n",
    "print(content)"
   ]
  },
  {
   "cell_type": "markdown",
   "metadata": {},
   "source": [
    "# BeautifulSoup parser\n",
    "after initialize with 'html.parser', can access text using tag types"
   ]
  },
  {
   "cell_type": "code",
   "execution_count": 2,
   "metadata": {},
   "outputs": [],
   "source": [
    "from bs4 import BeautifulSoup"
   ]
  },
  {
   "cell_type": "code",
   "execution_count": 13,
   "metadata": {},
   "outputs": [
    {
     "name": "stdout",
     "output_type": "stream",
     "text": [
      "<p><strong>There isn't a GitHub Pages site here.</strong></p>\n",
      "There isn't a GitHub Pages site here.\n",
      "\n",
      " <title>Site not found · GitHub Pages</title>\n",
      "Site not found · GitHub Pages\n",
      "1\n"
     ]
    }
   ],
   "source": [
    "parser = BeautifulSoup(content, 'html.parser')\n",
    "\n",
    "# get the body of the page:\n",
    "body = parser.body\n",
    "\n",
    "# get the p tag from the body:\n",
    "p = body.p\n",
    "\n",
    "print (p)\n",
    "print(p.text)\n",
    "\n",
    "print('\\n', parser.head.title)\n",
    "print(parser.head.title.text)\n",
    "print(len(parser.find_all(\"title\")))  # only find the 'title' in tag, not in text !!"
   ]
  },
  {
   "cell_type": "markdown",
   "metadata": {},
   "source": [
    "# parser using html IDs, Class_"
   ]
  },
  {
   "cell_type": "code",
   "execution_count": 38,
   "metadata": {},
   "outputs": [
    {
     "name": "stdout",
     "output_type": "stream",
     "text": [
      "Search Images Maps Play YouTube News Gmail Drive More »\n",
      "Web History | Settings | Sign in\n",
      "Advertising ProgramsBusiness Solutions+GoogleAbout Google© 2018 - Privacy - Terms\n",
      "<span class=\"gbf\" id=\"gbf\"></span>\n"
     ]
    }
   ],
   "source": [
    "# the http://dataquestio.github.io/web-scraping-pages/simple_ids.html not work. Try to use google.com\n",
    "response = requests.get(\"https://www.google.com/\")\n",
    "parser = BeautifulSoup(response.content, 'html.parser')\n",
    "\n",
    "# find the first element with specific ID:\n",
    "one_specific_part = parser.find_all('div', id='gbar')[0]\n",
    "print(one_specific_part.text)\n",
    "\n",
    "another_specific_part = parser.find_all('div', id='guser')[0]\n",
    "print(another_specific_part.text)\n",
    "\n",
    "another_specific_part = parser.find_all('span', id='footer')[0]\n",
    "print(another_specific_part.text)\n",
    "\n",
    "another_specific_part = parser.find_all('span', id='gbf')[0]\n",
    "print(another_specific_part)  # this one has no text, i.e. ***.text is empty\n",
    "\n",
    "# it won't work if replance 'id' with 'class': invalid syntax. It should be class_=...\n",
    "# second_paragraph = parser.find_all('div', class='gbh')[0]\n",
    "# print(second_paragraph.text)"
   ]
  },
  {
   "cell_type": "code",
   "execution_count": 17,
   "metadata": {},
   "outputs": [
    {
     "name": "stdout",
     "output_type": "stream",
     "text": [
      "<!DOCTYPE doctype html>\n",
      "<html itemscope=\"\" itemtype=\"http://schema.org/WebPage\" lang=\"en\"><head><meta content=\"Search the world's information, including webpages, images, videos and more. Google has many special features to help you find exactly what you're looking for.\" name=\"description\"/><meta content=\"noodp\" name=\"robots\"/><meta content=\"text/html; charset=utf-8\" http-equiv=\"Content-Type\"/><meta content=\"/images/branding/googleg/1x/googleg_standard_color_128dp.png\" itemprop=\"image\"/><title>Google</title><script nonce=\"7vKNM2hQkYs1Zt30LlMv4w==\">(function(){window.google={kEI:'5SK1W9XbBqqUjwT5pZiADw',kEXPI:'0,18167,1335580,57,1654,304,582,715,335,790,1225,590,141,141,193,55,228,156,210,417,96,62,351,87,293,63,426,2337291,111,169,32,302989,26305,1294,12383,4855,32691,15248,867,6692,4069,1696,6087,854,2481,2,2,6801,364,1217,326,1776,1263,1051,3191,224,2218,260,1028,3803,2,14,263,572,1119,2,579,727,606,1825,59,2,1,3,1297,1712,2613,2094,658,636,8,302,1267,222,552,1232,883,141,275,2,1124,3337,525,22,438,161,5,2,2,1763,200,528,3,773,814,659,283,556,29,3151,69,942,108,336,12,116,1110,234,386,8,1003,81,7,1,2,25,463,90,530,29,983,6,272,134,451,7,63,202,1582,99,670,536,911,119,1061,1068,45,79,714,2,742,245,9,136,168,377,501,410,2,198,359,63,1583,500,110,41,62,2,270,18,255,1103,2,35,202,60,42,144,721,23,230,38,184,155,47,66,159,22,70,485,2,69,135,54,45,181,390,50,178,175,162,173,208,34,824,99,62,250,95,56,94,2,332,47,588,46,295,141,170,186,3,194,128,384,426,7,68,22,770,74,3,5,5,1,5991854,1873,681,5997691,19,41,22,2800013,4,1572,549,333,444,1,2,1,1,78,1,900,583,9,304,1,8,1,2,1,1,2130,1,1,1,1,1,414,1,263,49,39,20,2,6,10,2,4,242,1,66,1,6,8,38,65,7,17,5,76,5,22308454',authuser:0,kscs:'c9c918f0_5SK1W9XbBqqUjwT5pZiADw',kGL:'US'};google.kHL='en';})();google.time=function(){return(new Date).getTime()};(function(){google.lc=[];google.li=0;google.getEI=function(a){for(var b;a&&(!a.getAttribute||!(b=a.getAttribute(\"eid\")));)a=a.parentNode;return b||google.kEI};google.getLEI=function(a){for(var b=null;a&&(!a.getAttribute||!(b=a.getAttribute(\"leid\")));)a=a.parentNode;return b};google.https=function(){return\"https:\"==window.location.protocol};google.ml=function(){return null};google.log=function(a,b,e,c,g){if(a=google.logUrl(a,b,e,c,g)){b=new Image;var d=google.lc,f=google.li;d[f]=b;b.onerror=b.onload=b.onabort=function(){delete d[f]};google.vel&&google.vel.lu&&google.vel.lu(a);b.src=a;google.li=f+1}};google.logUrl=function(a,b,e,c,g){var d=\"\",f=google.ls||\"\";e||-1!=b.search(\"&ei=\")||(d=\"&ei=\"+google.getEI(c),-1==b.search(\"&lei=\")&&(c=google.getLEI(c))&&(d+=\"&lei=\"+c));c=\"\";!e&&google.cshid&&-1==b.search(\"&cshid=\")&&\"slh\"!=a&&(c=\"&cshid=\"+google.cshid);a=e||\"/\"+(g||\"gen_204\")+\"?atyp=i&ct=\"+a+\"&cad=\"+b+d+f+\"&zx=\"+google.time()+c;/^http:/i.test(a)&&google.https()&&(google.ml(Error(\"a\"),!1,{src:a,glmm:1}),a=\"\");return a};}).call(this);(function(){google.y={};google.x=function(a,b){if(a)var c=a.id;else{do c=Math.random();while(google.y[c])}google.y[c]=[a,b];return!1};google.lm=[];google.plm=function(a){google.lm.push.apply(google.lm,a)};google.lq=[];google.load=function(a,b,c){google.lq.push([[a],b,c])};google.loadAll=function(a,b){google.lq.push([a,b])};}).call(this);google.f={};</script><script nonce=\"7vKNM2hQkYs1Zt30LlMv4w==\">var a=window.location,b=a.href.indexOf(\"#\");if(0<=b){var c=a.href.substring(b+1);/(^|&)q=/.test(c)&&-1==c.indexOf(\"#\")&&a.replace(\"/search?\"+c.replace(/(^|&)fp=[^&]*/g,\"\")+\"&cad=h\")};</script><style>#gbar,#guser{font-size:13px;padding-top:1px !important;}#gbar{height:22px}#guser{padding-bottom:7px !important;text-align:right}.gbh,.gbd{border-top:1px solid #c9d7f1;font-size:1px}.gbh{height:0;position:absolute;top:24px;width:100%}@media all{.gb1{height:22px;margin-right:.5em;vertical-align:top}#gbar{float:left}}a.gb1,a.gb4{text-decoration:underline !important}a.gb1,a.gb4{color:#00c !important}.gbi .gb4{color:#dd8e27 !important}.gbf .gb4{color:#900 !important}\n",
      "</style><style>body,td,a,p,.h{font-family:arial,sans-serif}body{margin:0;overflow-y:scroll}#gog{padding:3px 8px 0}td{line-height:.8em}.gac_m td{line-height:17px}form{margin-bottom:20px}.h{color:#36c}.q{color:#00c}.ts td{padding:0}.ts{border-collapse:collapse}em{font-weight:bold;font-style:normal}.lst{height:25px;width:496px}.gsfi,.lst{font:18px arial,sans-serif}.gsfs{font:17px arial,sans-serif}.ds{display:inline-box;display:inline-block;margin:3px 0 4px;margin-left:4px}input{font-family:inherit}a.gb1,a.gb2,a.gb3,a.gb4{color:#11c !important}body{background:#fff;color:black}a{color:#11c;text-decoration:none}a:hover,a:active{text-decoration:underline}.fl a{color:#36c}a:visited{color:#551a8b}a.gb1,a.gb4{text-decoration:underline}a.gb3:hover{text-decoration:none}#ghead a.gb2:hover{color:#fff !important}.sblc{padding-top:5px}.sblc a{display:block;margin:2px 0;margin-left:13px;font-size:11px}.lsbb{background:#eee;border:solid 1px;border-color:#ccc #999 #999 #ccc;height:30px}.lsbb{display:block}.ftl,#fll a{display:inline-block;margin:0 12px}.lsb{background:url(/images/nav_logo229.png) 0 -261px repeat-x;border:none;color:#000;cursor:pointer;height:30px;margin:0;outline:0;font:15px arial,sans-serif;vertical-align:top}.lsb:active{background:#ccc}.lst:focus{outline:none}</style><script nonce=\"7vKNM2hQkYs1Zt30LlMv4w==\"></script></head><body bgcolor=\"#fff\"><script nonce=\"7vKNM2hQkYs1Zt30LlMv4w==\">(function(){var src='/images/nav_logo229.png';var iesg=false;document.body.onload = function(){window.n && window.n();if (document.images){new Image().src=src;}\n",
      "if (!iesg){document.f&&document.f.q.focus();document.gbqf&&document.gbqf.q.focus();}\n",
      "}\n",
      "})();</script><div id=\"mngb\"> <div id=\"gbar\"><nobr><b class=\"gb1\">Search</b> <a class=\"gb1\" href=\"https://www.google.com/imghp?hl=en&amp;tab=wi\">Images</a> <a class=\"gb1\" href=\"https://maps.google.com/maps?hl=en&amp;tab=wl\">Maps</a> <a class=\"gb1\" href=\"https://play.google.com/?hl=en&amp;tab=w8\">Play</a> <a class=\"gb1\" href=\"https://www.youtube.com/?gl=US&amp;tab=w1\">YouTube</a> <a class=\"gb1\" href=\"https://news.google.com/nwshp?hl=en&amp;tab=wn\">News</a> <a class=\"gb1\" href=\"https://mail.google.com/mail/?tab=wm\">Gmail</a> <a class=\"gb1\" href=\"https://drive.google.com/?tab=wo\">Drive</a> <a class=\"gb1\" href=\"https://www.google.com/intl/en/options/\" style=\"text-decoration:none\"><u>More</u> »</a></nobr></div><div id=\"guser\" width=\"100%\"><nobr><span class=\"gbi\" id=\"gbn\"></span><span class=\"gbf\" id=\"gbf\"></span><span id=\"gbe\"></span><a class=\"gb4\" href=\"http://www.google.com/history/optout?hl=en\">Web History</a> | <a class=\"gb4\" href=\"/preferences?hl=en\">Settings</a> | <a class=\"gb4\" href=\"https://accounts.google.com/ServiceLogin?hl=en&amp;passive=true&amp;continue=https://www.google.com/\" id=\"gb_70\" target=\"_top\">Sign in</a></nobr></div><div class=\"gbh\" style=\"left:0\"></div><div class=\"gbh\" style=\"right:0\"></div> </div><center><br clear=\"all\" id=\"lgpd\"/><div id=\"lga\"><img alt=\"Google\" height=\"92\" id=\"hplogo\" onload=\"window.lol&amp;&amp;lol()\" src=\"/images/branding/googlelogo/1x/googlelogo_white_background_color_272x92dp.png\" style=\"padding:28px 0 14px\" width=\"272\"/><br/><br/></div><form action=\"/search\" name=\"f\"><table cellpadding=\"0\" cellspacing=\"0\"><tr valign=\"top\"><td width=\"25%\"> </td><td align=\"center\" nowrap=\"\"><input name=\"ie\" type=\"hidden\" value=\"ISO-8859-1\"/><input name=\"hl\" type=\"hidden\" value=\"en\"/><input name=\"source\" type=\"hidden\" value=\"hp\"/><input name=\"biw\" type=\"hidden\"/><input name=\"bih\" type=\"hidden\"/><div class=\"ds\" style=\"height:32px;margin:4px 0\"><input autocomplete=\"off\" class=\"lst\" maxlength=\"2048\" name=\"q\" size=\"57\" style=\"color:#000;margin:0;padding:5px 8px 0 6px;vertical-align:top\" title=\"Google Search\" value=\"\"/></div><br style=\"line-height:0\"/><span class=\"ds\"><span class=\"lsbb\"><input class=\"lsb\" name=\"btnG\" type=\"submit\" value=\"Google Search\"/></span></span><span class=\"ds\"><span class=\"lsbb\"><input class=\"lsb\" name=\"btnI\" onclick=\"if(this.form.q.value)this.checked=1; else top.location='/doodles/'\" type=\"submit\" value=\"I'm Feeling Lucky\"/></span></span></td><td align=\"left\" class=\"fl sblc\" nowrap=\"\" width=\"25%\"><a href=\"/advanced_search?hl=en&amp;authuser=0\">Advanced search</a><a href=\"/language_tools?hl=en&amp;authuser=0\">Language tools</a></td></tr></table><input id=\"gbv\" name=\"gbv\" type=\"hidden\" value=\"1\"/><script nonce=\"7vKNM2hQkYs1Zt30LlMv4w==\">(function(){var a,b=\"1\";if(document&&document.getElementById)if(\"undefined\"!=typeof XMLHttpRequest)b=\"2\";else if(\"undefined\"!=typeof ActiveXObject){var c,d,e=[\"MSXML2.XMLHTTP.6.0\",\"MSXML2.XMLHTTP.3.0\",\"MSXML2.XMLHTTP\",\"Microsoft.XMLHTTP\"];for(c=0;d=e[c++];)try{new ActiveXObject(d),b=\"2\"}catch(h){}}a=b;if(\"2\"==a&&-1==location.search.indexOf(\"&gbv=2\")){var f=google.gbvu,g=document.getElementById(\"gbv\");g&&(g.value=a);f&&window.setTimeout(function(){location.href=f},0)};}).call(this);</script></form><div id=\"gac_scont\"></div><div style=\"font-size:83%;min-height:3.5em\"><br/></div><span id=\"footer\"><div style=\"font-size:10pt\"><div id=\"fll\" style=\"margin:19px auto;text-align:center\"><a href=\"/intl/en/ads/\">Advertising Programs</a><a href=\"/services/\">Business Solutions</a><a href=\"https://plus.google.com/116899029375914044550\" rel=\"publisher\">+Google</a><a href=\"/intl/en/about.html\">About Google</a></div></div><p style=\"color:#767676;font-size:8pt\">© 2018 - <a href=\"/intl/en/policies/privacy/\">Privacy</a> - <a href=\"/intl/en/policies/terms/\">Terms</a></p></span></center><script nonce=\"7vKNM2hQkYs1Zt30LlMv4w==\">(function(){window.google.cdo={height:0,width:0};(function(){var a=window.innerWidth,b=window.innerHeight;if(!a||!b){var c=window.document,d=\"CSS1Compat\"==c.compatMode?c.documentElement:c.body;a=d.clientWidth;b=d.clientHeight}a&&b&&(a!=google.cdo.width||b!=google.cdo.height)&&google.log(\"\",\"\",\"/client_204?&atyp=i&biw=\"+a+\"&bih=\"+b+\"&ei=\"+google.kEI);}).call(this);})();</script><div id=\"xjsd\"></div><div id=\"xjsi\"><script nonce=\"7vKNM2hQkYs1Zt30LlMv4w==\">(function(){function c(b){window.setTimeout(function(){var a=document.createElement(\"script\");a.src=b;google.timers&&google.timers.load.t&&google.tick&&google.tick(\"load\",{gen204:\"xjsls\",clearcut:31});document.getElementById(\"xjsd\").appendChild(a)},0)}google.dljp=function(b,a){google.xjsu=b;c(a)};google.dlj=c;}).call(this);if(!google.xjs){window._=window._||{};window._DumpException=window._._DumpException=function(e){throw e};window._F_installCss=window._._F_installCss=function(c){};google.dljp('/xjs/_/js/k\\x3dxjs.hp.en_US.jiH6J2zn7AA.O/m\\x3dsb_he,d/am\\x3dYmA2/rt\\x3dj/d\\x3d1/rs\\x3dACT90oEZHI2tsQ2hO0ukLqH8yFw-jrGHyQ','/xjs/_/js/k\\x3dxjs.hp.en_US.jiH6J2zn7AA.O/m\\x3dsb_he,d/am\\x3dYmA2/rt\\x3dj/d\\x3d1/rs\\x3dACT90oEZHI2tsQ2hO0ukLqH8yFw-jrGHyQ');google.xjs=1;}google.pmc={\"sb_he\":{\"agen\":true,\"cgen\":true,\"client\":\"heirloom-hp\",\"dh\":true,\"dhqt\":true,\"ds\":\"\",\"ffql\":\"en\",\"fl\":true,\"host\":\"google.com\",\"isbh\":28,\"jsonp\":true,\"msgs\":{\"cibl\":\"Clear Search\",\"dym\":\"Did you mean:\",\"lcky\":\"I\\u0026#39;m Feeling Lucky\",\"lml\":\"Learn more\",\"oskt\":\"Input tools\",\"psrc\":\"This search was removed from your \\u003Ca href=\\\"/history\\\"\\u003EWeb History\\u003C/a\\u003E\",\"psrl\":\"Remove\",\"sbit\":\"Search by image\",\"srch\":\"Google Search\"},\"ovr\":{},\"pq\":\"\",\"refpd\":true,\"rfs\":[],\"sbpl\":24,\"sbpr\":24,\"scd\":10,\"sce\":5,\"stok\":\"dTMwIRHa2djQlAz9jzYKfjqo0P4\",\"uhde\":false},\"d\":{},\"ZI/YVQ\":{},\"Qnk92g\":{},\"U5B21g\":{},\"DPBNMg\":{},\"YFCs/g\":{}};google.x(null,function(){});(function(){var r=[];google.plm(r);})();(function(){var m=[]\n",
      ";google.jsc && google.jsc.m(m);})();</script></div></body></html>\n"
     ]
    }
   ],
   "source": [
    "print(parser)"
   ]
  },
  {
   "cell_type": "code",
   "execution_count": 36,
   "metadata": {},
   "outputs": [
    {
     "name": "stdout",
     "output_type": "stream",
     "text": [
      "Images\n"
     ]
    }
   ],
   "source": [
    "# it works to use style class_='...', instead of class='...'\n",
    "another_part = parser.find_all('a', class_='gb1')[0]\n",
    "print(another_part.text)"
   ]
  },
  {
   "cell_type": "markdown",
   "metadata": {},
   "source": [
    "# parser.select for CSS selectors, IDs\n",
    "CSS: Cascading Sytle Sheets"
   ]
  },
  {
   "cell_type": "code",
   "execution_count": 39,
   "metadata": {
    "collapsed": true
   },
   "outputs": [],
   "source": [
    "response = requests.get(\"http://dataquestio.github.io/web-scraping-pages/ids_and_classes.html\")\n",
    "parser = BeautifulSoup(response.content, 'html.parser')\n",
    "\n",
    "# to find class 'first-item'\n",
    "first_items = parser.select(\".first-item\")"
   ]
  },
  {
   "cell_type": "code",
   "execution_count": 44,
   "metadata": {},
   "outputs": [
    {
     "name": "stdout",
     "output_type": "stream",
     "text": [
      "[<p class=\"inner-text first-item\" id=\"first\">\n",
      "                First paragraph.\n",
      "            </p>, <p class=\"outer-text first-item\" id=\"second\">\n",
      "<b>\n",
      "                First outer paragraph.\n",
      "            </b>\n",
      "</p>]\n",
      "\n",
      " 2\n"
     ]
    }
   ],
   "source": [
    "print(first_items)\n",
    "print('\\n', len(first_items))"
   ]
  },
  {
   "cell_type": "code",
   "execution_count": 46,
   "metadata": {},
   "outputs": [
    {
     "name": "stdout",
     "output_type": "stream",
     "text": [
      "\n",
      "                First paragraph.\n",
      "            \n",
      "-------------------\n",
      " <p class=\"outer-text first-item\" id=\"second\">\n",
      "<b>\n",
      "                First outer paragraph.\n",
      "            </b>\n",
      "</p>\n",
      "--------------------\n",
      " \n",
      "\n",
      "                First outer paragraph.\n",
      "            \n",
      "\n"
     ]
    }
   ],
   "source": [
    "print(first_items[0].text)\n",
    "print('-------------------\\n', first_items[1])\n",
    "print('--------------------\\n', first_items[1].text)"
   ]
  },
  {
   "cell_type": "code",
   "execution_count": 47,
   "metadata": {},
   "outputs": [
    {
     "name": "stdout",
     "output_type": "stream",
     "text": [
      "<html>\n",
      "<head>\n",
      "<title>A simple example page</title>\n",
      "</head>\n",
      "<body>\n",
      "<div>\n",
      "<p class=\"inner-text first-item\" id=\"first\">\n",
      "                First paragraph.\n",
      "            </p>\n",
      "<p class=\"inner-text\">\n",
      "                Second paragraph.\n",
      "            </p>\n",
      "</div>\n",
      "<p class=\"outer-text first-item\" id=\"second\">\n",
      "<b>\n",
      "                First outer paragraph.\n",
      "            </b>\n",
      "</p>\n",
      "<p class=\"outer-text\">\n",
      "<b>\n",
      "                Second outer paragraph.\n",
      "            </b>\n",
      "</p>\n",
      "</body>\n",
      "</html>\n"
     ]
    }
   ],
   "source": [
    "print(parser)"
   ]
  },
  {
   "cell_type": "code",
   "execution_count": 50,
   "metadata": {},
   "outputs": [
    {
     "name": "stdout",
     "output_type": "stream",
     "text": [
      "\n",
      "\n",
      "                First outer paragraph.\n",
      "            \n",
      "\n",
      "1\n",
      "\n",
      "\n",
      "                First outer paragraph.\n",
      "            \n",
      "\n"
     ]
    }
   ],
   "source": [
    "# to find class 'outer-text'\n",
    "first_outer_text = parser.select(\".outer-text\")[0].text\n",
    "print(first_outer_text)\n",
    "# to find ID 'second'\n",
    "second = parser.select(\"#second\")\n",
    "print(len(second))\n",
    "print(second[0].text)"
   ]
  },
  {
   "cell_type": "code",
   "execution_count": 51,
   "metadata": {},
   "outputs": [
    {
     "name": "stdout",
     "output_type": "stream",
     "text": [
      "<!DOCTYPE html>\n",
      "\n",
      "<html>\n",
      "<head lang=\"en\">\n",
      "<meta charset=\"utf-8\"/>\n",
      "<title>2014 Superbowl Team Stats</title>\n",
      "</head>\n",
      "<body>\n",
      "<table class=\"stats_table nav_table\" id=\"team_stats\">\n",
      "<tbody>\n",
      "<tr id=\"teams\">\n",
      "<th></th>\n",
      "<th>SEA</th>\n",
      "<th>NWE</th>\n",
      "</tr>\n",
      "<tr id=\"first-downs\">\n",
      "<td>First downs</td>\n",
      "<td>20</td>\n",
      "<td>25</td>\n",
      "</tr>\n",
      "<tr id=\"total-yards\">\n",
      "<td>Total yards</td>\n",
      "<td>396</td>\n",
      "<td>377</td>\n",
      "</tr>\n",
      "<tr id=\"turnovers\">\n",
      "<td>Turnovers</td>\n",
      "<td>1</td>\n",
      "<td>2</td>\n",
      "</tr>\n",
      "<tr id=\"penalties\">\n",
      "<td>Penalties-yards</td>\n",
      "<td>7-70</td>\n",
      "<td>5-36</td>\n",
      "</tr>\n",
      "<tr id=\"total-plays\">\n",
      "<td>Total Plays</td>\n",
      "<td>53</td>\n",
      "<td>72</td>\n",
      "</tr>\n",
      "<tr id=\"time-of-possession\">\n",
      "<td>Time of Possession</td>\n",
      "<td>26:14</td>\n",
      "<td>33:46</td>\n",
      "</tr>\n",
      "</tbody>\n",
      "</table>\n",
      "</body>\n",
      "</html>\n"
     ]
    }
   ],
   "source": [
    "response = requests.get(\"http://dataquestio.github.io/web-scraping-pages/2014_super_bowl.html\")\n",
    "parser = BeautifulSoup(response.content, 'html.parser')\n",
    "print(parser)"
   ]
  },
  {
   "cell_type": "markdown",
   "metadata": {},
   "source": [
    "On website it looks like:\n",
    "\n",
    " |     -           |  SEA  |   NWE |\n",
    " | --------------- | ----- | ----- |\n",
    " |    First downs  |  20   |   25  |\n",
    " |  Total yards\t   | 396   | 377   |\n",
    " |  Turnovers\t   |  1\t   |   2   |\n",
    " | Penalties-yards | 7-70  | 5-36  |\n",
    " |   Total Plays   |  53   |  72   |\n",
    " |Time of Possession| 26:14| 33:46 | "
   ]
  },
  {
   "cell_type": "code",
   "execution_count": 53,
   "metadata": {},
   "outputs": [
    {
     "name": "stdout",
     "output_type": "stream",
     "text": [
      "1\n",
      "72\n",
      "396\n"
     ]
    }
   ],
   "source": [
    "# find the number of turnovers the Seahawks (SEA) committed:\n",
    "turnovers = parser.select(\"#turnovers\")[0]   # the first section of id='turnovers'\n",
    "SEA_turnovers = turnovers.select('td')[1]    # select the 2nd 'td' tag in 1st turnovers part\n",
    "SEA_turnovers_text = SEA_turnovers.text\n",
    "print(SEA_turnovers_text)\n",
    "\n",
    "# find NWE team plays:\n",
    "total_plays = parser.select(\"#total-plays\")[0]  # find the 1st section of id='total_plays'\n",
    "NWE_plays = total_plays.select('td')[2]    # select the 3rd 'td' tag in 1st total_plays part\n",
    "patriots_plays_text = NWE_plays.text\n",
    "print(patriots_plays_text)\n",
    "\n",
    "# find SEA total_yards:\n",
    "seahawks_total_yards_text = parser.select('#total-yards')[0].select(\"td\")[1].text\n",
    "print(seahawks_total_yards_text)"
   ]
  },
  {
   "cell_type": "code",
   "execution_count": null,
   "metadata": {
    "collapsed": true
   },
   "outputs": [],
   "source": []
  }
 ],
 "metadata": {
  "kernelspec": {
   "display_name": "Python 3",
   "language": "python",
   "name": "python3"
  },
  "language_info": {
   "codemirror_mode": {
    "name": "ipython",
    "version": 3
   },
   "file_extension": ".py",
   "mimetype": "text/x-python",
   "name": "python",
   "nbconvert_exporter": "python",
   "pygments_lexer": "ipython3",
   "version": "3.5.4"
  }
 },
 "nbformat": 4,
 "nbformat_minor": 2
}
